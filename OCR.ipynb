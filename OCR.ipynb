{
 "cells": [
  {
   "cell_type": "code",
   "execution_count": 1,
   "id": "f10620df",
   "metadata": {},
   "outputs": [],
   "source": [
    "# import the dataset\n",
    "import numpy as np\n",
    "from sklearn.datasets import fetch_openml\n",
    "mnist = fetch_openml('mnist_784', version=1)\n",
    "# fetch the data into input features X and target y\n",
    "X = mnist.data\n",
    "y = mnist.target.astype(int)"
   ]
  },
  {
   "cell_type": "code",
   "execution_count": 2,
   "id": "692d7f51",
   "metadata": {},
   "outputs": [
    {
     "data": {
      "image/png": "[encoded data removed]",
      "text/plain": [
       "<Figure size 432x288 with 1 Axes>"
      ]
     },
     "metadata": {
      "needs_background": "light"
     },
     "output_type": "display_data"
    }
   ],
   "source": [
    "# define a function to print the images\n",
    "import matplotlib.pyplot as plt\n",
    "def print_image(index):\n",
    "   # get the desired data and reshape in the correct form\n",
    "   example = X.loc[index].values\n",
    "   example = example.reshape(28,28)\n",
    "   # plot the image\n",
    "   plt.imshow(example, cmap='GnBu')\n",
    "   plt.axis('off')\n",
    "# print an example image\n",
    "print_image(43)"
   ]
  },
  {
   "cell_type": "code",
   "execution_count": 3,
   "id": "e6391209",
   "metadata": {},
   "outputs": [],
   "source": [
    "# divide into train & test sets\n",
    "from sklearn.model_selection import train_test_split\n",
    "X_train, X_test, y_train, y_test = train_test_split(X, y, test_size=0.25, random_state=42)"
   ]
  },
  {
   "cell_type": "code",
   "execution_count": 4,
   "id": "bc42870e",
   "metadata": {},
   "outputs": [
    {
     "name": "stdout",
     "output_type": "stream",
     "text": [
      "Accuracy with defaul KNN: 0.9686666666666666\n"
     ]
    }
   ],
   "source": [
    "from sklearn.neighbors import KNeighborsClassifier\n",
    "from sklearn.model_selection import cross_val_score\n",
    "# create an instance of the classifier\n",
    "knn_default = KNeighborsClassifier()\n",
    "# fit the model and perform cross validation\n",
    "knn_default = KNeighborsClassifier()\n",
    "cv_scores = cross_val_score(knn_default, X_train, y_train, cv=5, scoring=\"accuracy\")\n",
    "# take the average of the scores of different folds\n",
    "final_score_default = np.mean(cv_scores)\n",
    "print(\"Accuracy with defaul KNN:\", final_score_default)"
   ]
  },
  {
   "cell_type": "code",
   "execution_count": 5,
   "id": "43ba1e9a",
   "metadata": {},
   "outputs": [],
   "source": [
    "parameters = {'n_neighbors':list(range(4,7)), 'weights': ['uniform', 'distance']}"
   ]
  },
  {
   "cell_type": "code",
   "execution_count": 6,
   "id": "22ab42bc",
   "metadata": {},
   "outputs": [
    {
     "name": "stdout",
     "output_type": "stream",
     "text": [
      "Fitting 2 folds for each of 6 candidates, totalling 12 fits\n",
      "[CV 1/2; 1/6] START n_neighbors=4, weights=uniform..............................\n",
      "[CV 1/2; 1/6] END n_neighbors=4, weights=uniform;, score=(train=0.976, test=0.964) total time=  31.9s\n",
      "[CV 2/2; 1/6] START n_neighbors=4, weights=uniform..............................\n",
      "[CV 2/2; 1/6] END n_neighbors=4, weights=uniform;, score=(train=0.979, test=0.962) total time=  32.8s\n",
      "[CV 1/2; 2/6] START n_neighbors=4, weights=distance.............................\n",
      "[CV 1/2; 2/6] END n_neighbors=4, weights=distance;, score=(train=1.000, test=0.967) total time=  31.0s\n",
      "[CV 2/2; 2/6] START n_neighbors=4, weights=distance.............................\n",
      "[CV 2/2; 2/6] END n_neighbors=4, weights=distance;, score=(train=1.000, test=0.966) total time=  31.8s\n",
      "[CV 1/2; 3/6] START n_neighbors=5, weights=uniform..............................\n",
      "[CV 1/2; 3/6] END n_neighbors=5, weights=uniform;, score=(train=0.975, test=0.964) total time=  31.8s\n",
      "[CV 2/2; 3/6] START n_neighbors=5, weights=uniform..............................\n",
      "[CV 2/2; 3/6] END n_neighbors=5, weights=uniform;, score=(train=0.977, test=0.962) total time=  32.7s\n",
      "[CV 1/2; 4/6] START n_neighbors=5, weights=distance.............................\n",
      "[CV 1/2; 4/6] END n_neighbors=5, weights=distance;, score=(train=1.000, test=0.966) total time=  31.9s\n",
      "[CV 2/2; 4/6] START n_neighbors=5, weights=distance.............................\n",
      "[CV 2/2; 4/6] END n_neighbors=5, weights=distance;, score=(train=1.000, test=0.964) total time=  32.6s\n",
      "[CV 1/2; 5/6] START n_neighbors=6, weights=uniform..............................\n",
      "[CV 1/2; 5/6] END n_neighbors=6, weights=uniform;, score=(train=0.972, test=0.962) total time=  32.3s\n",
      "[CV 2/2; 5/6] START n_neighbors=6, weights=uniform..............................\n",
      "[CV 2/2; 5/6] END n_neighbors=6, weights=uniform;, score=(train=0.975, test=0.961) total time=  33.7s\n",
      "[CV 1/2; 6/6] START n_neighbors=6, weights=distance.............................\n",
      "[CV 1/2; 6/6] END n_neighbors=6, weights=distance;, score=(train=1.000, test=0.966) total time=  30.9s\n",
      "[CV 2/2; 6/6] START n_neighbors=6, weights=distance.............................\n",
      "[CV 2/2; 6/6] END n_neighbors=6, weights=distance;, score=(train=1.000, test=0.964) total time=  33.2s\n"
     ]
    },
    {
     "data": {
      "text/plain": [
       "GridSearchCV(cv=2, estimator=KNeighborsClassifier(),\n",
       "             param_grid={'n_neighbors': [4, 5, 6],\n",
       "                         'weights': ['uniform', 'distance']},\n",
       "             return_train_score=True, scoring='accuracy', verbose=10)"
      ]
     },
     "execution_count": 6,
     "metadata": {},
     "output_type": "execute_result"
    }
   ],
   "source": [
    "from sklearn.model_selection import GridSearchCV\n",
    "# create an instance of the knn classifier\n",
    "knn_grid_tuned = KNeighborsClassifier()\n",
    "# create an instance of grid search with the above parameters\n",
    "grid_search = GridSearchCV(knn_grid_tuned, parameters, cv=2, scoring='accuracy', return_train_score=True, verbose=10)\n",
    "# fit the grid search with training set\n",
    "grid_search.fit(X_train, y_train)"
   ]
  },
  {
   "cell_type": "code",
   "execution_count": 7,
   "id": "8b54ea01",
   "metadata": {},
   "outputs": [],
   "source": [
    "# retrieve the best estimator\n",
    "knn_tuned = grid_search.best_estimator_"
   ]
  },
  {
   "cell_type": "code",
   "execution_count": 8,
   "id": "74e92f5b",
   "metadata": {},
   "outputs": [
    {
     "data": {
      "text/plain": [
       "0.9719428571428571"
      ]
     },
     "execution_count": 8,
     "metadata": {},
     "output_type": "execute_result"
    }
   ],
   "source": [
    "from sklearn.metrics import accuracy_score\n",
    "accuracy_score(y_test, knn_tuned.predict(X_test))"
   ]
  },
  {
   "cell_type": "code",
   "execution_count": 17,
   "id": "df83c767",
   "metadata": {},
   "outputs": [],
   "source": [
    "pred = knn_tuned.predict(X_test)"
   ]
  },
  {
   "cell_type": "code",
   "execution_count": 19,
   "id": "940eddd0",
   "metadata": {},
   "outputs": [
    {
     "data": {
      "text/plain": [
       "array([8, 4, 8, ..., 5, 8, 2])"
      ]
     },
     "execution_count": 19,
     "metadata": {},
     "output_type": "execute_result"
    }
   ],
   "source": [
    "pred"
   ]
  }
 ],
 "metadata": {
  "kernelspec": {
   "display_name": "Python 3 (ipykernel)",
   "language": "python",
   "name": "python3"
  },
  "language_info": {
   "codemirror_mode": {
    "name": "ipython",
    "version": 3
   },
   "file_extension": ".py",
   "mimetype": "text/x-python",
   "name": "python",
   "nbconvert_exporter": "python",
   "pygments_lexer": "ipython3",
   "version": "3.9.12"
  }
 },
 "nbformat": 4,
 "nbformat_minor": 5
}
